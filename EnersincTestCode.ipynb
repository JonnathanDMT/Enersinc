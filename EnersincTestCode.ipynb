{
 "cells": [
  {
   "cell_type": "markdown",
   "id": "d7a40fd5-4962-489e-a7e4-a33cfb877552",
   "metadata": {
    "tags": []
   },
   "source": [
    "# Prueba ETL"
   ]
  },
  {
   "cell_type": "markdown",
   "id": "60c5450e-6bb9-4aab-b3f2-b278d160a59b",
   "metadata": {
    "tags": []
   },
   "source": [
    "## Extract\n",
    "Utilizando la API de Twitter https://developer.twitter.com/en/docs/twitter-api extraer datos de su preferencia (Tweets, Perfiles de usuario, Tendencias). Se deben realizar las peticiones necesarias para conformar un dataset de mínimo 100 filas."
   ]
  },
  {
   "cell_type": "markdown",
   "id": "32985ad9-bbf5-493a-a402-7d572c1807a6",
   "metadata": {
    "tags": []
   },
   "source": [
    "#### Instalación de libreria para la API de Twitter"
   ]
  },
  {
   "cell_type": "code",
   "execution_count": 1,
   "id": "7630f360-5574-4908-b74b-8c54ea5df3d5",
   "metadata": {},
   "outputs": [],
   "source": [
    "# pip install tweepy"
   ]
  },
  {
   "cell_type": "markdown",
   "id": "b2a92307-d0e6-4374-b715-a66b1a9ce027",
   "metadata": {},
   "source": [
    "#### Importamos librerias a utilizar"
   ]
  },
  {
   "cell_type": "code",
   "execution_count": 2,
   "id": "57b4c6e5-37d1-486a-bbea-ad80681a545b",
   "metadata": {},
   "outputs": [],
   "source": [
    "import tweepy\n",
    "import pandas as pd\n",
    "import datetime as dt\n",
    "import requests\n",
    "import json"
   ]
  },
  {
   "cell_type": "markdown",
   "id": "27e00b28-afd3-4f41-a523-b401ee05c506",
   "metadata": {},
   "source": [
    "#### Credenciales de autenticación de Twitter"
   ]
  },
  {
   "cell_type": "code",
   "execution_count": 3,
   "id": "33584035-a925-4e88-8a10-56eeff6050ad",
   "metadata": {},
   "outputs": [],
   "source": [
    "api_key = 'kWVruxqw0omFMcHl345E5S3Xs'\n",
    "api_key_secret = 'YLVoQrKeoDqUkXikuMIOLVOR2KUnDM7ex4n6XfQH9yiJt0lpLW'\n",
    "bearer_token = 'AAAAAAAAAAAAAAAAAAAAAIIvlAEAAAAABaAEmEIWxav5okuUSa0f2f2S6c0%3DlyBMqaiM6T6s1Ybe0VGkTLoF0dCUv7tHi3JOmtEEZbd4ypQ3jI'\n",
    "access_token = '1566302864930217984-prviE6p5uXez0NnI9dFedsu7qWbQ1a'\n",
    "access_token_secret = '0cc9pyy3thSgVxM93MTKo9VQx3twpfJyq4d9HRUfWWOml'"
   ]
  },
  {
   "cell_type": "markdown",
   "id": "a3bff741-a83f-4990-be49-31ab1872a3b0",
   "metadata": {},
   "source": [
    "#### Realizamos la autenticación con las credenciales"
   ]
  },
  {
   "cell_type": "code",
   "execution_count": 4,
   "id": "cffb68ac-a6e6-453e-917b-15c8b1946972",
   "metadata": {},
   "outputs": [],
   "source": [
    "auth = tweepy.OAuthHandler(api_key, api_key_secret)\n",
    "auth.set_access_token(access_token, access_token_secret)"
   ]
  },
  {
   "cell_type": "markdown",
   "id": "259833bb-a308-4d4d-9c32-dc14d120f1fe",
   "metadata": {},
   "source": [
    "#### Creamos un objeto para realizas todas las llamadas a la API"
   ]
  },
  {
   "cell_type": "code",
   "execution_count": 5,
   "id": "f9b3aa94-629a-4c06-b32f-7838b1595f4a",
   "metadata": {},
   "outputs": [],
   "source": [
    "api = tweepy.API(auth, wait_on_rate_limit = True)"
   ]
  },
  {
   "cell_type": "markdown",
   "id": "cc4bd14b-4968-444c-b464-02d4ffe7fc8b",
   "metadata": {},
   "source": [
    "#### Asignamos la cantidad de filas del dataset y obtenemos una linea de tiempo de los Tweets realizados por usuarios seguidos de un perfil"
   ]
  },
  {
   "cell_type": "code",
   "execution_count": 6,
   "id": "62813d9b-e67f-499e-988a-41629e7bbde3",
   "metadata": {},
   "outputs": [],
   "source": [
    "rows = 150\n",
    "public_tweets = tweepy.Cursor(api.home_timeline).items(rows)\n",
    "#public_tweets = api.home_timeline()\n",
    "#for tweet in public_tweets:\n",
    "#    print(f'{tweet.user.screen_name}:\\n{tweet.text}\\n{\"*\"*60}')"
   ]
  },
  {
   "cell_type": "markdown",
   "id": "6c5d48c3-828e-4411-ad34-42831c7e25f0",
   "metadata": {},
   "source": [
    "#### Creamos las columnas del dataset y lo rellenamos con la información consultada a la API"
   ]
  },
  {
   "cell_type": "code",
   "execution_count": 7,
   "id": "e36bfdf6-aca7-4504-b892-183bcfad6f98",
   "metadata": {},
   "outputs": [
    {
     "name": "stderr",
     "output_type": "stream",
     "text": [
      "Rate limit reached. Sleeping for: 3\n"
     ]
    }
   ],
   "source": [
    "columns = ['Date and Time','User','Followers','Following','Total Tweets','Tweet','Language','Likes','Retweet','Verified account']\n",
    "data = []\n",
    "\n",
    "for tweet in public_tweets:\n",
    "    data.append([tweet.created_at, tweet.user.screen_name, tweet.user.followers_count, tweet.user.friends_count,\n",
    "                 tweet.user.statuses_count, tweet.text, tweet.lang, tweet.favorite_count, tweet.retweet_count,\n",
    "                 tweet.user.verified])"
   ]
  },
  {
   "cell_type": "markdown",
   "id": "208fe85f-9bcd-4094-bd27-489b53aba18f",
   "metadata": {
    "tags": []
   },
   "source": [
    "## Transform\n",
    "Realizar el proceso de transformación, limpieza y normalización que considere necesario sobre los datos utilizando la librería Pandas. Tener en cuenta la calidad de los datos (Integridad, Consistencia, Relevancia) para garantizar un análisis fiable."
   ]
  },
  {
   "cell_type": "markdown",
   "id": "898d99a3-e2cb-4e2d-bfef-ab15599901aa",
   "metadata": {},
   "source": [
    "#### Convertimos los datos extraidos de la API a un dataframe de python"
   ]
  },
  {
   "cell_type": "code",
   "execution_count": 8,
   "id": "c7d949f2-e9a2-4fca-9eb2-05975bf63e32",
   "metadata": {},
   "outputs": [
    {
     "data": {
      "text/html": [
       "<div>\n",
       "<style scoped>\n",
       "    .dataframe tbody tr th:only-of-type {\n",
       "        vertical-align: middle;\n",
       "    }\n",
       "\n",
       "    .dataframe tbody tr th {\n",
       "        vertical-align: top;\n",
       "    }\n",
       "\n",
       "    .dataframe thead th {\n",
       "        text-align: right;\n",
       "    }\n",
       "</style>\n",
       "<table border=\"1\" class=\"dataframe\">\n",
       "  <thead>\n",
       "    <tr style=\"text-align: right;\">\n",
       "      <th></th>\n",
       "      <th>Date and Time</th>\n",
       "      <th>User</th>\n",
       "      <th>Followers</th>\n",
       "      <th>Following</th>\n",
       "      <th>Total Tweets</th>\n",
       "      <th>Tweet</th>\n",
       "      <th>Language</th>\n",
       "      <th>Likes</th>\n",
       "      <th>Retweet</th>\n",
       "      <th>Verified account</th>\n",
       "    </tr>\n",
       "  </thead>\n",
       "  <tbody>\n",
       "    <tr>\n",
       "      <th>0</th>\n",
       "      <td>2023-01-08 04:32:11+00:00</td>\n",
       "      <td>FranciaMarquezM</td>\n",
       "      <td>1078914</td>\n",
       "      <td>1026</td>\n",
       "      <td>10109</td>\n",
       "      <td>RT @PoloDemocratico: 🟡#PoloDemocrático | 🫶 Hoy...</td>\n",
       "      <td>es</td>\n",
       "      <td>0</td>\n",
       "      <td>30</td>\n",
       "      <td>True</td>\n",
       "    </tr>\n",
       "    <tr>\n",
       "      <th>1</th>\n",
       "      <td>2023-01-08 04:31:17+00:00</td>\n",
       "      <td>JP_GHIBLI</td>\n",
       "      <td>1663186</td>\n",
       "      <td>0</td>\n",
       "      <td>5649</td>\n",
       "      <td>熊本でのネコバスの乗り方ガイド🐾 https://t.co/S9NTzIiALs https...</td>\n",
       "      <td>ja</td>\n",
       "      <td>1356</td>\n",
       "      <td>139</td>\n",
       "      <td>True</td>\n",
       "    </tr>\n",
       "    <tr>\n",
       "      <th>2</th>\n",
       "      <td>2023-01-08 04:10:06+00:00</td>\n",
       "      <td>Geo_AW</td>\n",
       "      <td>69582</td>\n",
       "      <td>841</td>\n",
       "      <td>26615</td>\n",
       "      <td>I CANT STOP FUCKING SMILING  https://t.co/AKPv...</td>\n",
       "      <td>en</td>\n",
       "      <td>57</td>\n",
       "      <td>0</td>\n",
       "      <td>False</td>\n",
       "    </tr>\n",
       "    <tr>\n",
       "      <th>3</th>\n",
       "      <td>2023-01-08 04:09:22+00:00</td>\n",
       "      <td>Geo_AW</td>\n",
       "      <td>69582</td>\n",
       "      <td>841</td>\n",
       "      <td>26615</td>\n",
       "      <td>THE GREATEST DUO IN ANIME/MANGA HISTORY https:...</td>\n",
       "      <td>en</td>\n",
       "      <td>1086</td>\n",
       "      <td>173</td>\n",
       "      <td>False</td>\n",
       "    </tr>\n",
       "    <tr>\n",
       "      <th>4</th>\n",
       "      <td>2023-01-08 04:08:44+00:00</td>\n",
       "      <td>PokeFansTaiwan</td>\n",
       "      <td>4819</td>\n",
       "      <td>348</td>\n",
       "      <td>53363</td>\n",
       "      <td>RT @livedoornews: 【今日は何の日？】1月8日は「平成が始まった日」\\n\\n...</td>\n",
       "      <td>ja</td>\n",
       "      <td>0</td>\n",
       "      <td>2707</td>\n",
       "      <td>False</td>\n",
       "    </tr>\n",
       "  </tbody>\n",
       "</table>\n",
       "</div>"
      ],
      "text/plain": [
       "              Date and Time             User  Followers  Following  \\\n",
       "0 2023-01-08 04:32:11+00:00  FranciaMarquezM    1078914       1026   \n",
       "1 2023-01-08 04:31:17+00:00        JP_GHIBLI    1663186          0   \n",
       "2 2023-01-08 04:10:06+00:00           Geo_AW      69582        841   \n",
       "3 2023-01-08 04:09:22+00:00           Geo_AW      69582        841   \n",
       "4 2023-01-08 04:08:44+00:00   PokeFansTaiwan       4819        348   \n",
       "\n",
       "   Total Tweets                                              Tweet Language  \\\n",
       "0         10109  RT @PoloDemocratico: 🟡#PoloDemocrático | 🫶 Hoy...       es   \n",
       "1          5649  熊本でのネコバスの乗り方ガイド🐾 https://t.co/S9NTzIiALs https...       ja   \n",
       "2         26615  I CANT STOP FUCKING SMILING  https://t.co/AKPv...       en   \n",
       "3         26615  THE GREATEST DUO IN ANIME/MANGA HISTORY https:...       en   \n",
       "4         53363  RT @livedoornews: 【今日は何の日？】1月8日は「平成が始まった日」\\n\\n...       ja   \n",
       "\n",
       "   Likes  Retweet  Verified account  \n",
       "0      0       30              True  \n",
       "1   1356      139              True  \n",
       "2     57        0             False  \n",
       "3   1086      173             False  \n",
       "4      0     2707             False  "
      ]
     },
     "execution_count": 8,
     "metadata": {},
     "output_type": "execute_result"
    }
   ],
   "source": [
    "data = pd.DataFrame(data, columns = columns)\n",
    "data.head(5)"
   ]
  },
  {
   "cell_type": "markdown",
   "id": "836bdfcd-363b-42b9-bb0d-a6fb200d3126",
   "metadata": {},
   "source": [
    "#### Cantidad de filas y columnas que componen nuestro dataframe"
   ]
  },
  {
   "cell_type": "code",
   "execution_count": 9,
   "id": "f8c08d78-5acd-4f89-8b9a-aba75787d94a",
   "metadata": {},
   "outputs": [
    {
     "data": {
      "text/plain": [
       "(150, 10)"
      ]
     },
     "execution_count": 9,
     "metadata": {},
     "output_type": "execute_result"
    }
   ],
   "source": [
    "data.shape"
   ]
  },
  {
   "cell_type": "markdown",
   "id": "352c324d-61fd-43d5-87a6-a19f1231df19",
   "metadata": {},
   "source": [
    "#### Cantidad de datos nulos de nuestro dataframe"
   ]
  },
  {
   "cell_type": "code",
   "execution_count": 10,
   "id": "5354f4e1-faed-4184-ab7e-dd83aa6dd6b6",
   "metadata": {},
   "outputs": [
    {
     "data": {
      "text/plain": [
       "Date and Time       0\n",
       "User                0\n",
       "Followers           0\n",
       "Following           0\n",
       "Total Tweets        0\n",
       "Tweet               0\n",
       "Language            0\n",
       "Likes               0\n",
       "Retweet             0\n",
       "Verified account    0\n",
       "dtype: int64"
      ]
     },
     "execution_count": 10,
     "metadata": {},
     "output_type": "execute_result"
    }
   ],
   "source": [
    "data.isna().sum()"
   ]
  },
  {
   "cell_type": "markdown",
   "id": "d9585443-a9a6-4d6f-8dc8-04c303e7c1b5",
   "metadata": {},
   "source": [
    "#### Nombre de las columnas, cantidad de registros no nulos y tipo de datos de cada columna del dataframe"
   ]
  },
  {
   "cell_type": "code",
   "execution_count": 11,
   "id": "290bb77c-1d35-48c3-9803-ae2b0048d2d8",
   "metadata": {},
   "outputs": [
    {
     "name": "stdout",
     "output_type": "stream",
     "text": [
      "<class 'pandas.core.frame.DataFrame'>\n",
      "RangeIndex: 150 entries, 0 to 149\n",
      "Data columns (total 10 columns):\n",
      " #   Column            Non-Null Count  Dtype              \n",
      "---  ------            --------------  -----              \n",
      " 0   Date and Time     150 non-null    datetime64[ns, UTC]\n",
      " 1   User              150 non-null    object             \n",
      " 2   Followers         150 non-null    int64              \n",
      " 3   Following         150 non-null    int64              \n",
      " 4   Total Tweets      150 non-null    int64              \n",
      " 5   Tweet             150 non-null    object             \n",
      " 6   Language          150 non-null    object             \n",
      " 7   Likes             150 non-null    int64              \n",
      " 8   Retweet           150 non-null    int64              \n",
      " 9   Verified account  150 non-null    bool               \n",
      "dtypes: bool(1), datetime64[ns, UTC](1), int64(5), object(3)\n",
      "memory usage: 10.8+ KB\n"
     ]
    }
   ],
   "source": [
    "data.info()"
   ]
  },
  {
   "cell_type": "markdown",
   "id": "1cdbae8f-4b81-4547-b98d-89cb056b4a9a",
   "metadata": {},
   "source": [
    "#### Proceso de transformación y normalización de los datos"
   ]
  },
  {
   "cell_type": "markdown",
   "id": "7e2bcf2b-b783-482c-bc95-55ba59824532",
   "metadata": {},
   "source": [
    "#### De la columna 'Date and Time' extraemos la Fecha y Hora en columnas separadas"
   ]
  },
  {
   "cell_type": "code",
   "execution_count": 12,
   "id": "1311501e-9c18-45a0-9a70-2a3aa90cb156",
   "metadata": {},
   "outputs": [],
   "source": [
    "data['Date'] = data['Date and Time'].dt.strftime('%x')\n",
    "data['Time'] = data['Date and Time'].dt.strftime('%X')"
   ]
  },
  {
   "cell_type": "markdown",
   "id": "923242e4-4425-4ee8-a0bc-1bb05111f4c7",
   "metadata": {},
   "source": [
    "#### Eliminamos la columna 'Date and Time' ya que no nos servirá mas"
   ]
  },
  {
   "cell_type": "code",
   "execution_count": 13,
   "id": "0031471b-779c-4c69-800f-9691aa735ead",
   "metadata": {},
   "outputs": [],
   "source": [
    "data.drop(['Date and Time'], axis = 1, inplace = True)"
   ]
  },
  {
   "cell_type": "markdown",
   "id": "c296d0ef-db2c-46e7-ac7a-8bc4c827db01",
   "metadata": {},
   "source": [
    "#### Observamos los datos de la columna 'Verified account'"
   ]
  },
  {
   "cell_type": "code",
   "execution_count": 14,
   "id": "2400caff-658a-425b-9026-bc2d2373f682",
   "metadata": {},
   "outputs": [
    {
     "data": {
      "text/plain": [
       "True     128\n",
       "False     22\n",
       "Name: Verified account, dtype: int64"
      ]
     },
     "execution_count": 14,
     "metadata": {},
     "output_type": "execute_result"
    }
   ],
   "source": [
    "data['Verified account'].value_counts()"
   ]
  },
  {
   "cell_type": "markdown",
   "id": "c3be744d-6b6d-4dc9-a6b4-842b50e8085d",
   "metadata": {},
   "source": [
    "#### Reemplazamos los valores de esta columna para una mayor comprensión"
   ]
  },
  {
   "cell_type": "code",
   "execution_count": 15,
   "id": "dd990a7b-f6b9-4600-a28a-d86de7a58539",
   "metadata": {},
   "outputs": [],
   "source": [
    "data.replace({'Verified account': {True: 'Yes', False: 'No'}}, inplace = True)"
   ]
  },
  {
   "cell_type": "markdown",
   "id": "08610b69-bd2c-467e-93e9-2ec360c3e928",
   "metadata": {},
   "source": [
    "#### Observamos los datos de la columna 'Language'"
   ]
  },
  {
   "cell_type": "code",
   "execution_count": 16,
   "id": "7494a37a-b1f4-422c-a11e-aa527cc00b4e",
   "metadata": {},
   "outputs": [
    {
     "data": {
      "text/plain": [
       "es     85\n",
       "en     35\n",
       "ca     10\n",
       "ja      9\n",
       "und     2\n",
       "tl      2\n",
       "pt      2\n",
       "zxx     2\n",
       "cy      1\n",
       "ro      1\n",
       "ko      1\n",
       "Name: Language, dtype: int64"
      ]
     },
     "execution_count": 16,
     "metadata": {},
     "output_type": "execute_result"
    }
   ],
   "source": [
    "data['Language'].value_counts()"
   ]
  },
  {
   "cell_type": "markdown",
   "id": "6e258537-da85-4611-96c6-70eb3e1ecf01",
   "metadata": {},
   "source": [
    "#### Creamos un diccionario con el idioma abreviado y su forma larga"
   ]
  },
  {
   "cell_type": "code",
   "execution_count": 17,
   "id": "f1bef738-b6aa-4386-943f-4459d48fa518",
   "metadata": {},
   "outputs": [],
   "source": [
    "lang = {'af': 'afrikaans', 'sq': 'albanés', 'am': 'amhárico', 'ar': 'árabe', 'hy': 'armenio', 'az': 'azerbaiyano',\n",
    "        'eu': 'vasco', 'be': 'bielorruso', 'bn': 'bengalí', 'bs': 'bosnio', 'bg': 'búlgaro', 'ca': 'catalán',\n",
    "        'ceb' : 'cebuano', 'ny': 'chichewa', 'zh-cn': 'chino (simplificado)', 'zh-tw': 'chino (tradicional)',\n",
    "        'co': 'corso', 'hr' : 'croata', 'cs': 'checo', 'da': 'danés', 'nl': 'holandés', 'en': 'inglés',\n",
    "        'eo': 'esperanto', 'et': ' estonio', 'tl': 'filipino', 'fi': 'finlandés', 'fr': 'francés', 'fy': 'frisón',\n",
    "        'gl': 'gallego', 'ka': 'georgiano', 'de': 'alemán' , 'el': 'griego', 'gu': 'gujarati', 'ht': 'criollo haitiano',\n",
    "        'ha': 'hausa', 'haw': 'hawaiano', 'iw': 'hebreo', 'hi': 'hindi', 'hmn': 'hmong', 'hu': 'hungaro',\n",
    "        'is': 'islandés', 'ig': 'igbo', 'id': 'indonesio', 'ga ': 'irlandés', 'it': 'italiano', 'ja': 'japonés',\n",
    "        'jw': 'javanés', 'kn': 'kannada', 'kk': 'kazajo', 'km': 'khmer', 'ko':'coreano', 'ku': 'kurdo (kurmanji)',\n",
    "        'ky': 'kirguís', 'lo': 'lao', 'la': 'latín', 'lv': 'letón', 'lt' : 'lituano', 'lb': 'luxemburgués',\n",
    "        'mk': 'macedonio', 'mg': 'malgache', 'ms': 'malayo', 'ml': 'malayalam', 'mt': ' maltés', 'mi': 'maorí',\n",
    "        'mr': 'marathi', 'mn': 'mongol', 'my': 'myanmar (birmano)', 'ne': 'nepalí', 'no': 'noruego', 'ps': 'pashto',\n",
    "        'fa': 'persa', 'pl': 'polaco', 'pt': 'portugués', 'pa': 'punjabi', 'ro': 'rumano ', 'ru': 'ruso', 'sm': 'samoano',\n",
    "        'gd': 'gaélico escocés', 'sr': 'serbio', 'st': 'sesotho', 'sn': 'shona', 'sd': 'sindhi ', 'si': 'sinhala',\n",
    "        'sk': 'eslovaco', 'sl': 'esloveno', 'so': 'somalí', 'es': 'español', 'su': 'sundanés', 'sw': 'swahili',\n",
    "        'sv': 'sueco', 'tg': 'tayiko', 'ta': 'tamil', 'te': 'telugu', 'th': 'thai', 'tr ': 'turco', 'uk': 'ucraniano',\n",
    "        'ur': 'urdu', 'uz': 'uzbeko', 'vi': 'vietnamita', 'cy': 'galés', 'xh': 'xhosa', 'yi': 'yiddish',\n",
    "        'yo': 'yoruba', 'zu': 'zulu', 'fil': 'filipino', 'he': 'hebreo', 'und': 'indefinido', 'mul': 'multiples idiomas',\n",
    "        'zxx': 'sin contenido linguistico'}"
   ]
  },
  {
   "cell_type": "markdown",
   "id": "4059008a-35b5-4198-a343-193317ad2340",
   "metadata": {},
   "source": [
    "#### Convertimos los datos de la columna 'Language' a su forma no abreviada para una mayor comprensión"
   ]
  },
  {
   "cell_type": "code",
   "execution_count": 18,
   "id": "4f8efb17-0854-431a-b743-85f57c7b3388",
   "metadata": {},
   "outputs": [],
   "source": [
    "data.replace({'Language': lang}, inplace = True)"
   ]
  },
  {
   "cell_type": "markdown",
   "id": "16dcb2d5-9f27-42ca-ab35-10d03e7bc96e",
   "metadata": {},
   "source": [
    "#### Observamos los datos de la columna 'Language' con los cambios aplicados"
   ]
  },
  {
   "cell_type": "code",
   "execution_count": 19,
   "id": "e787c0e5-b58a-4f29-aeb5-3f359fa015d0",
   "metadata": {},
   "outputs": [
    {
     "data": {
      "text/plain": [
       "español                      85\n",
       "inglés                       35\n",
       "catalán                      10\n",
       "japonés                       9\n",
       "portugués                     2\n",
       "indefinido                    2\n",
       "filipino                      2\n",
       "sin contenido linguistico     2\n",
       "galés                         1\n",
       "coreano                       1\n",
       "rumano                        1\n",
       "Name: Language, dtype: int64"
      ]
     },
     "execution_count": 19,
     "metadata": {},
     "output_type": "execute_result"
    }
   ],
   "source": [
    "data['Language'].value_counts()"
   ]
  },
  {
   "cell_type": "markdown",
   "id": "b3d33feb-4c7c-4bd4-bb7c-0e4610ea2965",
   "metadata": {
    "tags": []
   },
   "source": [
    "## Load\n",
    "Cargar o almacenar los datos en una base de datos relacional (Postgresql, SQL Server) o en archivos planos en formato .csv"
   ]
  },
  {
   "cell_type": "markdown",
   "id": "a6185679-d21e-4de7-8901-257e37ebbb9a",
   "metadata": {},
   "source": [
    "#### Organizamos las columnas del dataset"
   ]
  },
  {
   "cell_type": "code",
   "execution_count": 20,
   "id": "36c2a5ae-df2a-4d7c-aed8-f0f8168f9056",
   "metadata": {},
   "outputs": [
    {
     "data": {
      "text/html": [
       "<div>\n",
       "<style scoped>\n",
       "    .dataframe tbody tr th:only-of-type {\n",
       "        vertical-align: middle;\n",
       "    }\n",
       "\n",
       "    .dataframe tbody tr th {\n",
       "        vertical-align: top;\n",
       "    }\n",
       "\n",
       "    .dataframe thead th {\n",
       "        text-align: right;\n",
       "    }\n",
       "</style>\n",
       "<table border=\"1\" class=\"dataframe\">\n",
       "  <thead>\n",
       "    <tr style=\"text-align: right;\">\n",
       "      <th></th>\n",
       "      <th>Date</th>\n",
       "      <th>Time</th>\n",
       "      <th>User</th>\n",
       "      <th>Followers</th>\n",
       "      <th>Following</th>\n",
       "      <th>Total Tweets</th>\n",
       "      <th>Tweet</th>\n",
       "      <th>Language</th>\n",
       "      <th>Likes</th>\n",
       "      <th>Retweet</th>\n",
       "      <th>Verified account</th>\n",
       "    </tr>\n",
       "  </thead>\n",
       "  <tbody>\n",
       "    <tr>\n",
       "      <th>0</th>\n",
       "      <td>01/08/23</td>\n",
       "      <td>04:32:11</td>\n",
       "      <td>FranciaMarquezM</td>\n",
       "      <td>1078914</td>\n",
       "      <td>1026</td>\n",
       "      <td>10109</td>\n",
       "      <td>RT @PoloDemocratico: 🟡#PoloDemocrático | 🫶 Hoy...</td>\n",
       "      <td>español</td>\n",
       "      <td>0</td>\n",
       "      <td>30</td>\n",
       "      <td>Yes</td>\n",
       "    </tr>\n",
       "    <tr>\n",
       "      <th>1</th>\n",
       "      <td>01/08/23</td>\n",
       "      <td>04:31:17</td>\n",
       "      <td>JP_GHIBLI</td>\n",
       "      <td>1663186</td>\n",
       "      <td>0</td>\n",
       "      <td>5649</td>\n",
       "      <td>熊本でのネコバスの乗り方ガイド🐾 https://t.co/S9NTzIiALs https...</td>\n",
       "      <td>japonés</td>\n",
       "      <td>1356</td>\n",
       "      <td>139</td>\n",
       "      <td>Yes</td>\n",
       "    </tr>\n",
       "    <tr>\n",
       "      <th>2</th>\n",
       "      <td>01/08/23</td>\n",
       "      <td>04:10:06</td>\n",
       "      <td>Geo_AW</td>\n",
       "      <td>69582</td>\n",
       "      <td>841</td>\n",
       "      <td>26615</td>\n",
       "      <td>I CANT STOP FUCKING SMILING  https://t.co/AKPv...</td>\n",
       "      <td>inglés</td>\n",
       "      <td>57</td>\n",
       "      <td>0</td>\n",
       "      <td>No</td>\n",
       "    </tr>\n",
       "    <tr>\n",
       "      <th>3</th>\n",
       "      <td>01/08/23</td>\n",
       "      <td>04:09:22</td>\n",
       "      <td>Geo_AW</td>\n",
       "      <td>69582</td>\n",
       "      <td>841</td>\n",
       "      <td>26615</td>\n",
       "      <td>THE GREATEST DUO IN ANIME/MANGA HISTORY https:...</td>\n",
       "      <td>inglés</td>\n",
       "      <td>1086</td>\n",
       "      <td>173</td>\n",
       "      <td>No</td>\n",
       "    </tr>\n",
       "    <tr>\n",
       "      <th>4</th>\n",
       "      <td>01/08/23</td>\n",
       "      <td>04:08:44</td>\n",
       "      <td>PokeFansTaiwan</td>\n",
       "      <td>4819</td>\n",
       "      <td>348</td>\n",
       "      <td>53363</td>\n",
       "      <td>RT @livedoornews: 【今日は何の日？】1月8日は「平成が始まった日」\\n\\n...</td>\n",
       "      <td>japonés</td>\n",
       "      <td>0</td>\n",
       "      <td>2707</td>\n",
       "      <td>No</td>\n",
       "    </tr>\n",
       "    <tr>\n",
       "      <th>...</th>\n",
       "      <td>...</td>\n",
       "      <td>...</td>\n",
       "      <td>...</td>\n",
       "      <td>...</td>\n",
       "      <td>...</td>\n",
       "      <td>...</td>\n",
       "      <td>...</td>\n",
       "      <td>...</td>\n",
       "      <td>...</td>\n",
       "      <td>...</td>\n",
       "      <td>...</td>\n",
       "    </tr>\n",
       "    <tr>\n",
       "      <th>145</th>\n",
       "      <td>01/07/23</td>\n",
       "      <td>12:40:29</td>\n",
       "      <td>Geo_AW</td>\n",
       "      <td>69582</td>\n",
       "      <td>841</td>\n",
       "      <td>26615</td>\n",
       "      <td>Zoro and Sanji on tonight’s one piece episode ...</td>\n",
       "      <td>inglés</td>\n",
       "      <td>2739</td>\n",
       "      <td>326</td>\n",
       "      <td>No</td>\n",
       "    </tr>\n",
       "    <tr>\n",
       "      <th>146</th>\n",
       "      <td>01/07/23</td>\n",
       "      <td>12:36:27</td>\n",
       "      <td>FCBarcelona</td>\n",
       "      <td>45788341</td>\n",
       "      <td>111</td>\n",
       "      <td>129280</td>\n",
       "      <td>\"It will be a very difficult game\"\\n\\n      — ...</td>\n",
       "      <td>inglés</td>\n",
       "      <td>2127</td>\n",
       "      <td>122</td>\n",
       "      <td>Yes</td>\n",
       "    </tr>\n",
       "    <tr>\n",
       "      <th>147</th>\n",
       "      <td>01/07/23</td>\n",
       "      <td>12:34:03</td>\n",
       "      <td>FCBarcelona</td>\n",
       "      <td>45788341</td>\n",
       "      <td>111</td>\n",
       "      <td>129280</td>\n",
       "      <td>⚡️ 𝙇𝙄𝙑𝙀 𝙉𝙊𝙒 ⚡️\\nBarça manager Xavi Hernández s...</td>\n",
       "      <td>español</td>\n",
       "      <td>1346</td>\n",
       "      <td>80</td>\n",
       "      <td>Yes</td>\n",
       "    </tr>\n",
       "    <tr>\n",
       "      <th>148</th>\n",
       "      <td>01/07/23</td>\n",
       "      <td>12:26:52</td>\n",
       "      <td>GustavoBolivar</td>\n",
       "      <td>1450169</td>\n",
       "      <td>24444</td>\n",
       "      <td>60319</td>\n",
       "      <td>RT @RevistaSemana: #GustavoBolívarSeDestapa | ...</td>\n",
       "      <td>español</td>\n",
       "      <td>0</td>\n",
       "      <td>147</td>\n",
       "      <td>Yes</td>\n",
       "    </tr>\n",
       "    <tr>\n",
       "      <th>149</th>\n",
       "      <td>01/07/23</td>\n",
       "      <td>12:26:34</td>\n",
       "      <td>FCBarcelona</td>\n",
       "      <td>45788341</td>\n",
       "      <td>111</td>\n",
       "      <td>129280</td>\n",
       "      <td>🚨 Barça to face Ceuta in the last 16 of the Co...</td>\n",
       "      <td>español</td>\n",
       "      <td>7010</td>\n",
       "      <td>428</td>\n",
       "      <td>Yes</td>\n",
       "    </tr>\n",
       "  </tbody>\n",
       "</table>\n",
       "<p>150 rows × 11 columns</p>\n",
       "</div>"
      ],
      "text/plain": [
       "         Date      Time             User  Followers  Following  Total Tweets  \\\n",
       "0    01/08/23  04:32:11  FranciaMarquezM    1078914       1026         10109   \n",
       "1    01/08/23  04:31:17        JP_GHIBLI    1663186          0          5649   \n",
       "2    01/08/23  04:10:06           Geo_AW      69582        841         26615   \n",
       "3    01/08/23  04:09:22           Geo_AW      69582        841         26615   \n",
       "4    01/08/23  04:08:44   PokeFansTaiwan       4819        348         53363   \n",
       "..        ...       ...              ...        ...        ...           ...   \n",
       "145  01/07/23  12:40:29           Geo_AW      69582        841         26615   \n",
       "146  01/07/23  12:36:27      FCBarcelona   45788341        111        129280   \n",
       "147  01/07/23  12:34:03      FCBarcelona   45788341        111        129280   \n",
       "148  01/07/23  12:26:52   GustavoBolivar    1450169      24444         60319   \n",
       "149  01/07/23  12:26:34      FCBarcelona   45788341        111        129280   \n",
       "\n",
       "                                                 Tweet Language  Likes  \\\n",
       "0    RT @PoloDemocratico: 🟡#PoloDemocrático | 🫶 Hoy...  español      0   \n",
       "1    熊本でのネコバスの乗り方ガイド🐾 https://t.co/S9NTzIiALs https...  japonés   1356   \n",
       "2    I CANT STOP FUCKING SMILING  https://t.co/AKPv...   inglés     57   \n",
       "3    THE GREATEST DUO IN ANIME/MANGA HISTORY https:...   inglés   1086   \n",
       "4    RT @livedoornews: 【今日は何の日？】1月8日は「平成が始まった日」\\n\\n...  japonés      0   \n",
       "..                                                 ...      ...    ...   \n",
       "145  Zoro and Sanji on tonight’s one piece episode ...   inglés   2739   \n",
       "146  \"It will be a very difficult game\"\\n\\n      — ...   inglés   2127   \n",
       "147  ⚡️ 𝙇𝙄𝙑𝙀 𝙉𝙊𝙒 ⚡️\\nBarça manager Xavi Hernández s...  español   1346   \n",
       "148  RT @RevistaSemana: #GustavoBolívarSeDestapa | ...  español      0   \n",
       "149  🚨 Barça to face Ceuta in the last 16 of the Co...  español   7010   \n",
       "\n",
       "     Retweet Verified account  \n",
       "0         30              Yes  \n",
       "1        139              Yes  \n",
       "2          0               No  \n",
       "3        173               No  \n",
       "4       2707               No  \n",
       "..       ...              ...  \n",
       "145      326               No  \n",
       "146      122              Yes  \n",
       "147       80              Yes  \n",
       "148      147              Yes  \n",
       "149      428              Yes  \n",
       "\n",
       "[150 rows x 11 columns]"
      ]
     },
     "execution_count": 20,
     "metadata": {},
     "output_type": "execute_result"
    }
   ],
   "source": [
    "data = data.reindex(columns = ['Date','Time','User','Followers','Following','Total Tweets','Tweet','Language',\n",
    "                               'Likes','Retweet','Verified account'])\n",
    "data"
   ]
  },
  {
   "cell_type": "markdown",
   "id": "ccfa977c-6fe3-42d1-9043-793f46bb6492",
   "metadata": {},
   "source": [
    "#### Exportamos el dataset a un archivo plano en formato .csv"
   ]
  },
  {
   "cell_type": "code",
   "execution_count": 21,
   "id": "d3879a2c-89b0-4fd2-a74f-9145259f53f5",
   "metadata": {},
   "outputs": [],
   "source": [
    "data.to_csv('data_twitter.csv', index = False)"
   ]
  }
 ],
 "metadata": {
  "kernelspec": {
   "display_name": "Python [conda env:dhdsblend2021] *",
   "language": "python",
   "name": "conda-env-dhdsblend2021-py"
  },
  "language_info": {
   "codemirror_mode": {
    "name": "ipython",
    "version": 3
   },
   "file_extension": ".py",
   "mimetype": "text/x-python",
   "name": "python",
   "nbconvert_exporter": "python",
   "pygments_lexer": "ipython3",
   "version": "3.8.13"
  }
 },
 "nbformat": 4,
 "nbformat_minor": 5
}
